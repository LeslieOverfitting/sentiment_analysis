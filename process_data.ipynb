{
 "cells": [
  {
   "cell_type": "code",
   "execution_count": 10,
   "metadata": {},
   "outputs": [],
   "source": [
    "import pandas as pd\n",
    "import numpy as np\n",
    "import matplotlib.pyplot as plt\n",
    "import seaborn as sns\n",
    "plt.style.use('seaborn')\n",
    "sns.set(font_scale=2)"
   ]
  },
  {
   "cell_type": "code",
   "execution_count": 55,
   "metadata": {},
   "outputs": [],
   "source": [
    "train_df = pd.read_csv('data/nCoV_100k_train.labled.csv',engine ='python')\n",
    "test_df  = pd.read_csv('data/nCov_10k_test.csv',engine ='python')"
   ]
  },
  {
   "cell_type": "code",
   "execution_count": 8,
   "metadata": {},
   "outputs": [
    {
     "ename": "AttributeError",
     "evalue": "'str' object has no attribute 'map'",
     "output_type": "error",
     "traceback": [
      "\u001b[0;31m---------------------------------------------------------------------------\u001b[0m",
      "\u001b[0;31mAttributeError\u001b[0m                            Traceback (most recent call last)",
      "\u001b[0;32m<ipython-input-8-8023e55c904d>\u001b[0m in \u001b[0;36m<module>\u001b[0;34m\u001b[0m\n\u001b[1;32m      1\u001b[0m \u001b[0mtemp\u001b[0m \u001b[0;34m=\u001b[0m \u001b[0;34m'abcd'\u001b[0m\u001b[0;34m\u001b[0m\u001b[0;34m\u001b[0m\u001b[0m\n\u001b[0;32m----> 2\u001b[0;31m \u001b[0mprint\u001b[0m\u001b[0;34m(\u001b[0m\u001b[0mtemp\u001b[0m\u001b[0;34m.\u001b[0m\u001b[0mmap\u001b[0m\u001b[0;34m(\u001b[0m\u001b[0mstr\u001b[0m\u001b[0;34m)\u001b[0m\u001b[0;34m)\u001b[0m\u001b[0;34m\u001b[0m\u001b[0;34m\u001b[0m\u001b[0m\n\u001b[0m",
      "\u001b[0;31mAttributeError\u001b[0m: 'str' object has no attribute 'map'"
     ]
    }
   ],
   "source": [
    "temp = 'abcd'\n"
   ]
  },
  {
   "cell_type": "code",
   "execution_count": 5,
   "metadata": {},
   "outputs": [
    {
     "name": "stdout",
     "output_type": "stream",
     "text": [
      "<class 'pandas.core.frame.DataFrame'>\n",
      "RangeIndex: 100000 entries, 0 to 99999\n",
      "Data columns (total 7 columns):\n",
      "微博id      100000 non-null int64\n",
      "微博发布时间    100000 non-null object\n",
      "发布人账号     100000 non-null object\n",
      "微博中文内容    99646 non-null object\n",
      "微博图片      100000 non-null object\n",
      "微博视频      100000 non-null object\n",
      "情感倾向      99919 non-null object\n",
      "dtypes: int64(1), object(6)\n",
      "memory usage: 5.3+ MB\n"
     ]
    }
   ],
   "source": [
    "train_df.info()"
   ]
  },
  {
   "cell_type": "code",
   "execution_count": 6,
   "metadata": {},
   "outputs": [
    {
     "name": "stdout",
     "output_type": "stream",
     "text": [
      "<class 'pandas.core.frame.DataFrame'>\n",
      "RangeIndex: 10000 entries, 0 to 9999\n",
      "Data columns (total 6 columns):\n",
      "微博id      10000 non-null int64\n",
      "微博发布时间    10000 non-null object\n",
      "发布人账号     10000 non-null object\n",
      "微博中文内容    9963 non-null object\n",
      "微博图片      10000 non-null object\n",
      "微博视频      10000 non-null object\n",
      "dtypes: int64(1), object(5)\n",
      "memory usage: 468.9+ KB\n"
     ]
    }
   ],
   "source": [
    "test_df.info()"
   ]
  },
  {
   "cell_type": "code",
   "execution_count": 56,
   "metadata": {},
   "outputs": [],
   "source": [
    "train_df = train_df[train_df['微博中文内容'].notna()]"
   ]
  },
  {
   "cell_type": "code",
   "execution_count": 8,
   "metadata": {},
   "outputs": [
    {
     "data": {
      "text/plain": [
       "Text(0.5, 1.0, 'sentiment(target)')"
      ]
     },
     "execution_count": 8,
     "metadata": {},
     "output_type": "execute_result"
    },
    {
     "data": {
      "image/png": "[encoded data removed]",
      "text/plain": [
       "<Figure size 432x288 with 1 Axes>"
      ]
     },
     "metadata": {
      "needs_background": "light"
     },
     "output_type": "display_data"
    }
   ],
   "source": [
    "train_df['情感倾向'].value_counts().plot.bar()\n",
    "plt.title('sentiment(target)')"
   ]
  },
  {
   "cell_type": "code",
   "execution_count": 57,
   "metadata": {},
   "outputs": [],
   "source": [
    "train_df = train_df[train_df['情感倾向'].isin(['0','1','-1'])]"
   ]
  },
  {
   "cell_type": "code",
   "execution_count": 10,
   "metadata": {},
   "outputs": [
    {
     "data": {
      "text/plain": [
       "Text(0.5, 1.0, 'sentiment(target)')"
      ]
     },
     "execution_count": 10,
     "metadata": {},
     "output_type": "execute_result"
    },
    {
     "data": {
      "image/png": "[encoded data removed]",
      "text/plain": [
       "<Figure size 432x288 with 1 Axes>"
      ]
     },
     "metadata": {
      "needs_background": "light"
     },
     "output_type": "display_data"
    }
   ],
   "source": [
    "train_df['情感倾向'].value_counts().plot.bar()\n",
    "plt.title('sentiment(target)')"
   ]
  },
  {
   "cell_type": "code",
   "execution_count": 58,
   "metadata": {},
   "outputs": [],
   "source": [
    "test_df['微博中文内容'].fillna(' ',inplace= True)"
   ]
  },
  {
   "cell_type": "code",
   "execution_count": 52,
   "metadata": {},
   "outputs": [
    {
     "name": "stdout",
     "output_type": "stream",
     "text": [
      "<class 'pandas.core.frame.DataFrame'>\n",
      "RangeIndex: 10000 entries, 0 to 9999\n",
      "Data columns (total 6 columns):\n",
      "微博id      10000 non-null int64\n",
      "微博发布时间    10000 non-null object\n",
      "发布人账号     10000 non-null object\n",
      "微博中文内容    10000 non-null object\n",
      "微博图片      10000 non-null object\n",
      "微博视频      10000 non-null object\n",
      "dtypes: int64(1), object(5)\n",
      "memory usage: 468.9+ KB\n"
     ]
    }
   ],
   "source": [
    "test_df.info()"
   ]
  },
  {
   "cell_type": "code",
   "execution_count": 40,
   "metadata": {},
   "outputs": [],
   "source": [
    "train_df.to_csv('data/train_weibo_clean.csv')\n",
    "test_df.to_csv('data/test_weibo_clean.csv')"
   ]
  },
  {
   "cell_type": "code",
   "execution_count": 67,
   "metadata": {},
   "outputs": [],
   "source": [
    "train_df['微博中文内容'] = train_df['微博中文内容'].apply(str).apply(list)"
   ]
  },
  {
   "cell_type": "code",
   "execution_count": 68,
   "metadata": {},
   "outputs": [
    {
     "data": {
      "text/plain": [
       "0        [写, 在, 年, 末, 冬, 初, 孩, 子, 流, 感, 的, 第, 五, 天, ，, ...\n",
       "1        [开, 年, 大, 模, 型, …, 累, 到, 以, 为, 自, 己, 发, 烧, 了, ...\n",
       "2        [, 邱, 晨, 这, 就, 是, 我, 爹, ，, 爹, ，, 发, 烧, 快, 好, ...\n",
       "3        [新, 年, 的, 第, 一, 天, 感, 冒, 又, 发, 烧, 的, 也, 太, 衰, ...\n",
       "4        [问, ：, 我, 们, 意, 念, 里, 有, 坏, 的, 想, 法, 了, ，, 天, ...\n",
       "                               ...                        \n",
       "99995    [#, 抗, 击, 新, 型, 肺, 炎, 第, 一, 线, #, 【, @, 中, 国, ...\n",
       "99996    [1, 、, 类, R, a, T, G, 1, 3, 病, 毒, （, 一, 种, 从, ...\n",
       "99997    [#, 微, 博, 辟, 谣, #, 没, 有, 证, 据, 表, 明, ，, 吃, 大, ...\n",
       "99998    [【, 新, 冠, 疫, 情, 最, 受, 关, 注, 的, 十, 一, 篇, 英, 文, ...\n",
       "99999    [从, 蝙, 蝠, 携, 带, 的, 冠, 状, 病, 毒, 变, 异, 成, 2, 0, ...\n",
       "Name: 微博中文内容, Length: 99560, dtype: object"
      ]
     },
     "execution_count": 68,
     "metadata": {},
     "output_type": "execute_result"
    }
   ],
   "source": [
    "train_df['微博中文内容']"
   ]
  },
  {
   "cell_type": "code",
   "execution_count": 69,
   "metadata": {},
   "outputs": [
    {
     "data": {
      "text/plain": [
       "['新',\n",
       " '年',\n",
       " '的',\n",
       " '第',\n",
       " '一',\n",
       " '天',\n",
       " '感',\n",
       " '冒',\n",
       " '又',\n",
       " '发',\n",
       " '烧',\n",
       " '的',\n",
       " '也',\n",
       " '太',\n",
       " '衰',\n",
       " '了',\n",
       " '但',\n",
       " '是',\n",
       " '我',\n",
       " '要',\n",
       " '想',\n",
       " '着',\n",
       " '明',\n",
       " '天',\n",
       " '一',\n",
       " '定',\n",
       " '会',\n",
       " '好',\n",
       " '的',\n",
       " '?']"
      ]
     },
     "execution_count": 69,
     "metadata": {},
     "output_type": "execute_result"
    }
   ],
   "source": [
    "content = train_df['微博中文内容'][3]\n",
    "content"
   ]
  },
  {
   "cell_type": "code",
   "execution_count": 70,
   "metadata": {},
   "outputs": [],
   "source": [
    "content[2] = 1"
   ]
  },
  {
   "cell_type": "code",
   "execution_count": 71,
   "metadata": {},
   "outputs": [
    {
     "data": {
      "text/plain": [
       "['新',\n",
       " '年',\n",
       " 1,\n",
       " '第',\n",
       " '一',\n",
       " '天',\n",
       " '感',\n",
       " '冒',\n",
       " '又',\n",
       " '发',\n",
       " '烧',\n",
       " '的',\n",
       " '也',\n",
       " '太',\n",
       " '衰',\n",
       " '了',\n",
       " '但',\n",
       " '是',\n",
       " '我',\n",
       " '要',\n",
       " '想',\n",
       " '着',\n",
       " '明',\n",
       " '天',\n",
       " '一',\n",
       " '定',\n",
       " '会',\n",
       " '好',\n",
       " '的',\n",
       " '?']"
      ]
     },
     "execution_count": 71,
     "metadata": {},
     "output_type": "execute_result"
    }
   ],
   "source": [
    "train_df['微博中文内容'][3]"
   ]
  },
  {
   "cell_type": "code",
   "execution_count": 54,
   "metadata": {},
   "outputs": [
    {
     "ename": "TypeError",
     "evalue": "'float' object is not iterable",
     "output_type": "error",
     "traceback": [
      "\u001b[0;31m---------------------------------------------------------------------------\u001b[0m",
      "\u001b[0;31mTypeError\u001b[0m                                 Traceback (most recent call last)",
      "\u001b[0;32m<ipython-input-54-7b3685c7ab87>\u001b[0m in \u001b[0;36m<module>\u001b[0;34m\u001b[0m\n\u001b[1;32m      3\u001b[0m     \u001b[0;32mreturn\u001b[0m \u001b[0mlist\u001b[0m\u001b[0;34m(\u001b[0m\u001b[0mx\u001b[0m\u001b[0;34m)\u001b[0m\u001b[0;34m\u001b[0m\u001b[0;34m\u001b[0m\u001b[0m\n\u001b[1;32m      4\u001b[0m \u001b[0;34m\u001b[0m\u001b[0m\n\u001b[0;32m----> 5\u001b[0;31m \u001b[0mtrain_df\u001b[0m\u001b[0;34m[\u001b[0m\u001b[0;34m'微博中文内容'\u001b[0m\u001b[0;34m]\u001b[0m\u001b[0;34m.\u001b[0m\u001b[0mapply\u001b[0m\u001b[0;34m(\u001b[0m\u001b[0mf\u001b[0m\u001b[0;34m)\u001b[0m\u001b[0;34m\u001b[0m\u001b[0;34m\u001b[0m\u001b[0m\n\u001b[0m\u001b[1;32m      6\u001b[0m \u001b[0mtiran_df\u001b[0m\u001b[0;34m[\u001b[0m\u001b[0;34m'微博中文内容'\u001b[0m\u001b[0;34m]\u001b[0m\u001b[0;34m\u001b[0m\u001b[0;34m\u001b[0m\u001b[0m\n",
      "\u001b[0;32m~/anaconda3/lib/python3.7/site-packages/pandas/core/series.py\u001b[0m in \u001b[0;36mapply\u001b[0;34m(self, func, convert_dtype, args, **kwds)\u001b[0m\n\u001b[1;32m   4040\u001b[0m             \u001b[0;32melse\u001b[0m\u001b[0;34m:\u001b[0m\u001b[0;34m\u001b[0m\u001b[0;34m\u001b[0m\u001b[0m\n\u001b[1;32m   4041\u001b[0m                 \u001b[0mvalues\u001b[0m \u001b[0;34m=\u001b[0m \u001b[0mself\u001b[0m\u001b[0;34m.\u001b[0m\u001b[0mastype\u001b[0m\u001b[0;34m(\u001b[0m\u001b[0mobject\u001b[0m\u001b[0;34m)\u001b[0m\u001b[0;34m.\u001b[0m\u001b[0mvalues\u001b[0m\u001b[0;34m\u001b[0m\u001b[0;34m\u001b[0m\u001b[0m\n\u001b[0;32m-> 4042\u001b[0;31m                 \u001b[0mmapped\u001b[0m \u001b[0;34m=\u001b[0m \u001b[0mlib\u001b[0m\u001b[0;34m.\u001b[0m\u001b[0mmap_infer\u001b[0m\u001b[0;34m(\u001b[0m\u001b[0mvalues\u001b[0m\u001b[0;34m,\u001b[0m \u001b[0mf\u001b[0m\u001b[0;34m,\u001b[0m \u001b[0mconvert\u001b[0m\u001b[0;34m=\u001b[0m\u001b[0mconvert_dtype\u001b[0m\u001b[0;34m)\u001b[0m\u001b[0;34m\u001b[0m\u001b[0;34m\u001b[0m\u001b[0m\n\u001b[0m\u001b[1;32m   4043\u001b[0m \u001b[0;34m\u001b[0m\u001b[0m\n\u001b[1;32m   4044\u001b[0m         \u001b[0;32mif\u001b[0m \u001b[0mlen\u001b[0m\u001b[0;34m(\u001b[0m\u001b[0mmapped\u001b[0m\u001b[0;34m)\u001b[0m \u001b[0;32mand\u001b[0m \u001b[0misinstance\u001b[0m\u001b[0;34m(\u001b[0m\u001b[0mmapped\u001b[0m\u001b[0;34m[\u001b[0m\u001b[0;36m0\u001b[0m\u001b[0;34m]\u001b[0m\u001b[0;34m,\u001b[0m \u001b[0mSeries\u001b[0m\u001b[0;34m)\u001b[0m\u001b[0;34m:\u001b[0m\u001b[0;34m\u001b[0m\u001b[0;34m\u001b[0m\u001b[0m\n",
      "\u001b[0;32mpandas/_libs/lib.pyx\u001b[0m in \u001b[0;36mpandas._libs.lib.map_infer\u001b[0;34m()\u001b[0m\n",
      "\u001b[0;32m<ipython-input-54-7b3685c7ab87>\u001b[0m in \u001b[0;36mf\u001b[0;34m(x)\u001b[0m\n\u001b[1;32m      1\u001b[0m \u001b[0;32mdef\u001b[0m \u001b[0mf\u001b[0m\u001b[0;34m(\u001b[0m\u001b[0mx\u001b[0m\u001b[0;34m)\u001b[0m\u001b[0;34m:\u001b[0m\u001b[0;34m\u001b[0m\u001b[0;34m\u001b[0m\u001b[0m\n\u001b[1;32m      2\u001b[0m     \u001b[0;31m#print(x)\u001b[0m\u001b[0;34m\u001b[0m\u001b[0;34m\u001b[0m\u001b[0;34m\u001b[0m\u001b[0m\n\u001b[0;32m----> 3\u001b[0;31m     \u001b[0;32mreturn\u001b[0m \u001b[0mlist\u001b[0m\u001b[0;34m(\u001b[0m\u001b[0mx\u001b[0m\u001b[0;34m)\u001b[0m\u001b[0;34m\u001b[0m\u001b[0;34m\u001b[0m\u001b[0m\n\u001b[0m\u001b[1;32m      4\u001b[0m \u001b[0;34m\u001b[0m\u001b[0m\n\u001b[1;32m      5\u001b[0m \u001b[0mtrain_df\u001b[0m\u001b[0;34m[\u001b[0m\u001b[0;34m'微博中文内容'\u001b[0m\u001b[0;34m]\u001b[0m\u001b[0;34m.\u001b[0m\u001b[0mapply\u001b[0m\u001b[0;34m(\u001b[0m\u001b[0mf\u001b[0m\u001b[0;34m)\u001b[0m\u001b[0;34m\u001b[0m\u001b[0;34m\u001b[0m\u001b[0m\n",
      "\u001b[0;31mTypeError\u001b[0m: 'float' object is not iterable"
     ]
    }
   ],
   "source": [
    "def f(x):\n",
    "    #print(x)\n",
    "    return list(x)\n",
    "\n",
    "train_df['微博中文内容'].apply(f)\n",
    "tiran_df['微博中文内容']"
   ]
  },
  {
   "cell_type": "code",
   "execution_count": 18,
   "metadata": {},
   "outputs": [],
   "source": [
    "import pickle\n",
    "import numpy as np\n",
    "\n",
    "UNKNOWN = '<UNK>'\n",
    "PADDING = '<PAD>'\n",
    "\n",
    "def read_pretrain_embedding(emb_path):\n",
    "    pre_train_emd = {}\n",
    "    with open(emb_path, mode='r', encoding='utf-8') as f:\n",
    "        word_nums, dim = f.readline().split()\n",
    "        word_nums = int(word_nums)\n",
    "        dim = int(dim)\n",
    "        for line in f:\n",
    "            tokens = line.strip().split(' ')\n",
    "            if len(tokens) == dim + 1:\n",
    "                pre_train_emd[tokens[0]] = list(map(lambda x: float(x), tokens[1:]))\n",
    "    return pre_train_emd\n"
   ]
  },
  {
   "cell_type": "code",
   "execution_count": 19,
   "metadata": {},
   "outputs": [],
   "source": [
    "pre_train_emd = read_pretrain_embedding('data/sgns.weibo.char')"
   ]
  },
  {
   "cell_type": "code",
   "execution_count": 20,
   "metadata": {},
   "outputs": [],
   "source": [
    "import csv\n",
    "def read_data(dataPath, is_train = True):\n",
    "    with open(dataPath, mode='r', encoding='utf-8') as f:\n",
    "        reader = csv.DictReader(f)\n",
    "        data = list(reader)\n",
    "        data = np.asarray(data)\n",
    "        content_data = {'content':[], 'label':[]}\n",
    "        for line in data:\n",
    "            content_data['content'].append(list(line['微博中文内容']))\n",
    "            if is_train:\n",
    "                content_data['label'].append(line['情感倾向'])\n",
    "        \n",
    "        return content_data\n",
    "    "
   ]
  },
  {
   "cell_type": "code",
   "execution_count": 9,
   "metadata": {},
   "outputs": [
    {
     "ename": "NameError",
     "evalue": "name 'read_data' is not defined",
     "output_type": "error",
     "traceback": [
      "\u001b[0;31m---------------------------------------------------------------------------\u001b[0m",
      "\u001b[0;31mNameError\u001b[0m                                 Traceback (most recent call last)",
      "\u001b[0;32m<ipython-input-9-ccfd73696751>\u001b[0m in \u001b[0;36m<module>\u001b[0;34m\u001b[0m\n\u001b[0;32m----> 1\u001b[0;31m \u001b[0mcontent_train_data\u001b[0m \u001b[0;34m=\u001b[0m \u001b[0mread_data\u001b[0m\u001b[0;34m(\u001b[0m\u001b[0;34m'data/train_weibo_clean.csv'\u001b[0m\u001b[0;34m)\u001b[0m\u001b[0;34m\u001b[0m\u001b[0;34m\u001b[0m\u001b[0m\n\u001b[0m\u001b[1;32m      2\u001b[0m \u001b[0mcontent_test_data\u001b[0m \u001b[0;34m=\u001b[0m \u001b[0mread_data\u001b[0m\u001b[0;34m(\u001b[0m\u001b[0;34m'data/test_weibo_clean.csv'\u001b[0m\u001b[0;34m,\u001b[0m \u001b[0;32mFalse\u001b[0m\u001b[0;34m)\u001b[0m\u001b[0;34m\u001b[0m\u001b[0;34m\u001b[0m\u001b[0m\n",
      "\u001b[0;31mNameError\u001b[0m: name 'read_data' is not defined"
     ]
    }
   ],
   "source": [
    "content_train_data = read_data('data/train_weibo_clean.csv')\n",
    "content_test_data = read_data('data/test_weibo_clean.csv', False)"
   ]
  },
  {
   "cell_type": "code",
   "execution_count": 22,
   "metadata": {},
   "outputs": [
    {
     "data": {
      "text/plain": [
       "99560"
      ]
     },
     "execution_count": 22,
     "metadata": {},
     "output_type": "execute_result"
    }
   ],
   "source": [
    "len(content_train_data['content'])"
   ]
  },
  {
   "cell_type": "code",
   "execution_count": null,
   "metadata": {},
   "outputs": [],
   "source": [
    "content_data = content_train_data"
   ]
  },
  {
   "cell_type": "code",
   "execution_count": 23,
   "metadata": {},
   "outputs": [],
   "source": [
    "def build_word_emb(content_train_data, pre_train_emd, emd_dim, content_test_data = None):\n",
    "    \"\"\"\n",
    "        return word_emb type-list [n_vocab * dim]\n",
    "               word2Index type-dict {word: index}\n",
    "    \"\"\"\n",
    "    word_emb = [np.random.uniform(-0.1, 0.1, emd_dim) for _ in range(2)]\n",
    "    word2Index = {PADDING: 0, UNKNOWN: 1}\n",
    "    for content in content_train_data['content']:\n",
    "        for i in range(len(content)):\n",
    "            if content[i] not in word2Index:\n",
    "                if content[i] in pre_train_emd: # in vocab\n",
    "                    word2Index[content[i]] = len(word2Index)\n",
    "                    word_emb.append(pre_train_emd[content[i]])\n",
    "                else: # not in vocab\n",
    "                    content[i] = UNKNOWN\n",
    "            content[i] = word2Index[content[i]]\n",
    "            \n",
    "    if content_test_data is not None:\n",
    "        for content in content_test_data['content']:\n",
    "            for i in range(len(content)):\n",
    "                if content[i] not in word2Index:\n",
    "                    if content[i] in pre_train_emd: # in vocab\n",
    "                        word2Index[content[i]] = len(word2Index)\n",
    "                        word_emb.append(pre_train_emd[content[i]])\n",
    "                    else: # not in vocab\n",
    "                        content[i] = UNKNOWN\n",
    "                content[i] = word2Index[content[i]]\n",
    "    word_emb = np.asarray(word_emb, dtype='float32')\n",
    "    return word_emb, word2Index\n",
    "                    "
   ]
  },
  {
   "cell_type": "code",
   "execution_count": 24,
   "metadata": {},
   "outputs": [],
   "source": [
    "def save_word_emb(word_emb, word2Index):\n",
    "    with open('data/word_emb', 'wb') as f:\n",
    "        pickle.dump((word_emb, word2Index), f)\n",
    "    print('saved.')\n",
    "\n",
    "def load_word_emb(path):\n",
    "    with open(path, 'rb') as f:\n",
    "        word_emb, word2Index = pickle.load(f)\n",
    "        return word_emb, word2Index"
   ]
  },
  {
   "cell_type": "code",
   "execution_count": 25,
   "metadata": {},
   "outputs": [],
   "source": [
    "word_emb, word2Index = build_word_emb(content_train_data, pre_train_emd, 300, content_test_data)\n",
    "#save_word_emb(word_emb, word2Index)"
   ]
  },
  {
   "cell_type": "code",
   "execution_count": 26,
   "metadata": {},
   "outputs": [
    {
     "name": "stdout",
     "output_type": "stream",
     "text": [
      "saved.\n"
     ]
    }
   ],
   "source": [
    "save_word_emb(word_emb, word2Index)"
   ]
  },
  {
   "cell_type": "code",
   "execution_count": 27,
   "metadata": {},
   "outputs": [],
   "source": [
    "word_emb, word2Index = load_word_emb('data/word_emb')"
   ]
  },
  {
   "cell_type": "code",
   "execution_count": 40,
   "metadata": {},
   "outputs": [
    {
     "data": {
      "text/plain": [
       "(5224, 300)"
      ]
     },
     "execution_count": 40,
     "metadata": {},
     "output_type": "execute_result"
    }
   ],
   "source": [
    "word_emb.shape"
   ]
  },
  {
   "cell_type": "code",
   "execution_count": 29,
   "metadata": {},
   "outputs": [],
   "source": [
    "def pad_content(content_data, seq_len):\n",
    "    pad_seq = np.zeros((len(content_data), seq_len), dtype=int)\n",
    "    for i, row in enumerate(content_data):\n",
    "        doc_len = seq_len\n",
    "        if doc_len > len(row):\n",
    "            doc_len = len(row)\n",
    "        pad_seq[i, :doc_len] = row[:doc_len]\n",
    "    return pad_seq"
   ]
  },
  {
   "cell_type": "code",
   "execution_count": 30,
   "metadata": {},
   "outputs": [],
   "source": [
    "seq_len = 140\n",
    "\n",
    "train_content = pad_content(content_train_data['content'], seq_len)\n"
   ]
  },
  {
   "cell_type": "code",
   "execution_count": 31,
   "metadata": {},
   "outputs": [],
   "source": [
    "test_content = pad_content(content_test_data['content'], seq_len)"
   ]
  },
  {
   "cell_type": "code",
   "execution_count": 32,
   "metadata": {},
   "outputs": [],
   "source": [
    "content_train_data['content'] = train_content"
   ]
  },
  {
   "cell_type": "code",
   "execution_count": 117,
   "metadata": {},
   "outputs": [],
   "source": [
    "def split_data(content_train_data):\n",
    "    np.random.seed(123)\n",
    "    #np.random.shuffle(content_train_data['content'])\n",
    "    #np.random.shuffle(content_train_data['label'])\n",
    "    length = len(content_train_data['content'])\n",
    "    train_x = content_train_data['content'][:int(0.9 * length)]\n",
    "    train_y = content_train_data['label'][:int(0.9 * length)]\n",
    "    valid_x = content_train_data['content'][int(0.9 * length):]\n",
    "    valid_y = content_train_data['label'][int(0.9 * length):]\n",
    "    train_y = np.asarray(train_y, dtype='int')\n",
    "    valid_y = np.asarray(valid_y, dtype='int')\n",
    "    return train_x, train_y, valid_x, valid_y"
   ]
  },
  {
   "cell_type": "code",
   "execution_count": 118,
   "metadata": {},
   "outputs": [],
   "source": [
    "train_x, train_y, valid_x, valid_y = split_data(content_train_data)"
   ]
  },
  {
   "cell_type": "code",
   "execution_count": 119,
   "metadata": {},
   "outputs": [],
   "source": [
    "train_y = train_y + 1 # 0 neg 1 mid 2 positive\n"
   ]
  },
  {
   "cell_type": "code",
   "execution_count": 120,
   "metadata": {},
   "outputs": [],
   "source": [
    "valid_y = valid_y + 1"
   ]
  },
  {
   "cell_type": "code",
   "execution_count": 121,
   "metadata": {},
   "outputs": [
    {
     "data": {
      "text/plain": [
       "array([1, 1, 1, ..., 1, 2, 1])"
      ]
     },
     "execution_count": 121,
     "metadata": {},
     "output_type": "execute_result"
    }
   ],
   "source": [
    "valid_y"
   ]
  },
  {
   "cell_type": "code",
   "execution_count": 122,
   "metadata": {},
   "outputs": [],
   "source": [
    "batch_size = 16\n",
    "\n",
    "import torch\n",
    "from torch.utils.data import TensorDataset, DataLoader\n",
    "\n",
    "train_data = TensorDataset(torch.from_numpy(train_x), torch.from_numpy(train_y))\n",
    "valid_data = TensorDataset(torch.from_numpy(valid_x), torch.from_numpy(valid_y))"
   ]
  },
  {
   "cell_type": "code",
   "execution_count": 123,
   "metadata": {},
   "outputs": [],
   "source": [
    "train_loader = DataLoader(train_data, shuffle=True, batch_size=batch_size)\n",
    "valid_loader = DataLoader(valid_data, shuffle=True, batch_size=batch_size)"
   ]
  },
  {
   "cell_type": "code",
   "execution_count": 124,
   "metadata": {},
   "outputs": [
    {
     "name": "stdout",
     "output_type": "stream",
     "text": [
      "Sample input size:  torch.Size([16, 140])\n",
      "Sample input: \n",
      " tensor([[ 118,  624,   11,  ...,   94,   95,   70],\n",
      "        [ 229,   15,   16,  ...,   98,    0,    0],\n",
      "        [ 118, 1417, 1157,  ..., 1028,   52,  101],\n",
      "        ...,\n",
      "        [  13,   32, 1378,  ...,  369,   16, 1243],\n",
      "        [ 474,  442,  442,  ...,    0,    0,    0],\n",
      "        [ 442,  442,  162,  ...,    0,    0,    0]])\n",
      "\n",
      "Sample label size:  torch.Size([16])\n",
      "Sample label: \n",
      " tensor([2, 2, 2, 1, 2, 2, 1, 1, 1, 0, 1, 2, 1, 1, 1, 1])\n"
     ]
    }
   ],
   "source": [
    "dataiter = iter(train_loader)\n",
    "sample_x, sample_y = dataiter.next()\n",
    " \n",
    "print('Sample input size: ', sample_x.size()) # batch_size, seq_length\n",
    "print('Sample input: \\n', sample_x)\n",
    "print()\n",
    "print('Sample label size: ', sample_y.size()) # batch_size\n",
    "print('Sample label: \\n', sample_y)\n"
   ]
  },
  {
   "cell_type": "code",
   "execution_count": 139,
   "metadata": {},
   "outputs": [
    {
     "name": "stdout",
     "output_type": "stream",
     "text": [
      "No GPU available, training on CPU.\n"
     ]
    }
   ],
   "source": [
    "# First checking if GPU is available\n",
    "train_on_gpu=torch.cuda.is_available()\n",
    " \n",
    "if(train_on_gpu):\n",
    "    print('Training on GPU.')\n",
    "else:\n",
    "    print('No GPU available, training on CPU.')\n"
   ]
  },
  {
   "cell_type": "markdown",
   "metadata": {},
   "source": [
    "## 模型"
   ]
  },
  {
   "cell_type": "code",
   "execution_count": 142,
   "metadata": {},
   "outputs": [],
   "source": [
    "import torch\n",
    "import torch.nn as nn\n",
    "import torch.nn.functional as F\n",
    "\n",
    "class STModel(nn.Module):\n",
    "    \n",
    "    def __init__(self, emd_dim, batch_size, vocab_size, classes_num, hidden_num, layer_num, embeddings = None, padding_idx = 0,dropout=0.5):\n",
    "        super(STModel, self).__init__()\n",
    "        self.hidden_num = hidden_num\n",
    "        self.batch_size = batch_size\n",
    "        self.layer_num = layer_num\n",
    "        self.dropout = dropout\n",
    "        self.vocab_size = vocab_size\n",
    "        self.emd_dim = emd_dim\n",
    "        self.encoder = nn.Embedding(vocab_size, emd_dim, padding_idx= padding_idx)\n",
    "        if embeddings is not None:\n",
    "            self.encoder.weight.data.copy_(embeddings)\n",
    "        self.drop = nn.Dropout(dropout)\n",
    "        self.lstm = nn.LSTM(emd_dim, hidden_num, layer_num, dropout= dropout,\n",
    "                            bidirectional= False,batch_first = True)\n",
    "        self.fc = nn.Linear(hidden_num, classes_num)\n",
    "        self.init_weights()\n",
    "        self.sigm = nn.Sigmoid()\n",
    "        \n",
    "        \n",
    "    def forward(self, x, hidden):\n",
    "        batch_size = x.size(0)\n",
    "        #print(batch_size)\n",
    "        emb = self.drop(self.encoder(x))\n",
    "        #print('emb', emb.size())\n",
    "        lstm_out, hidden = self.lstm(emb, hidden)\n",
    "        #print('lstm_out', lstm_out.size())\n",
    "        lstm_out = self.drop(lstm_out) #lstm_out torch.Size([16, 140, 100]) batch seq hidden \n",
    "        lstm_out = lstm_out.transpose(0, 1)#lstm_out torch.Size([140, 16, 100]) seq batch hidden \n",
    "        fc_input = lstm_out[-1]\n",
    "        #print('fc_input', fc_input.size())\n",
    "        fc_out = self.fc(fc_input)\n",
    "        #print('fc_out', fc_out.size())\n",
    "        sig_out = self.sigm(fc_out)\n",
    "        #print('sig_out', sig_out.size())\n",
    "        pred = sig_out.view(batch_size, -1)\n",
    "        return sig_out\n",
    "    \n",
    "    def print_shape(name, shape):\n",
    "        print('name:', shape)\n",
    "        \n",
    "    def init_weights(self):\n",
    "        initrange = 0.1\n",
    "        #self.encoder.weight.data.uniform_(-initrange, initrange)\n",
    "        self.fc.bias.data.zero_()\n",
    "        self.fc.weight.data.uniform_(-initrange, initrange)\n",
    "        \n",
    "    def init_hidden(self, batch_size):\n",
    "        weight = next(self.parameters())\n",
    "        if(train_on_gpu):\n",
    "            return (weight.new_zeros(self.layer_num, batch_size, self.hidden_num).cuda(),\n",
    "                    weight.new_zeros(self.layer_num, batch_size, self.hidden_num).cuda())\n",
    "        else:\n",
    "            return (weight.new_zeros(self.layer_num, batch_size, self.hidden_num),\n",
    "                    weight.new_zeros(self.layer_num, batch_size, self.hidden_num))"
   ]
  },
  {
   "cell_type": "markdown",
   "metadata": {},
   "source": [
    "## Train"
   ]
  },
  {
   "cell_type": "code",
   "execution_count": 134,
   "metadata": {},
   "outputs": [
    {
     "name": "stderr",
     "output_type": "stream",
     "text": [
      "/home/leslie/anaconda3/lib/python3.7/site-packages/ipykernel_launcher.py:8: UserWarning: To copy construct from a tensor, it is recommended to use sourceTensor.clone().detach() or sourceTensor.clone().detach().requires_grad_(True), rather than torch.tensor(sourceTensor).\n",
      "  \n"
     ]
    }
   ],
   "source": [
    "emd_dim = 300\n",
    "vocab_size = word_emb.shape[0]\n",
    "classes_num = 3\n",
    "hidden_num = 100\n",
    "layer_num = 2\n",
    "dropout = 0.5\n",
    "#embeddings = torch.tensor(pickle.load(pkl), dtype=torch.float).to(device)\n",
    "word_emb = torch.tensor(word_emb, dtype=torch.float,requires_grad=False)\n",
    "model = STModel(emd_dim, batch_size, vocab_size, classes_num, hidden_num, layer_num, embeddings = word_emb, dropout = 0.5)"
   ]
  },
  {
   "cell_type": "code",
   "execution_count": 135,
   "metadata": {},
   "outputs": [],
   "source": [
    "import torch.optim as optim\n",
    "\n",
    "SAVE_PATH = 'STMmodel.pt'\n",
    "criterion = nn.CrossEntropyLoss()\n",
    "optimizer = optim.SGD(model.parameters(), lr=0.001, momentum=0.9)\n",
    "batch_size = 16\n",
    "clip = 5\n",
    "epochs = 5"
   ]
  },
  {
   "cell_type": "code",
   "execution_count": 137,
   "metadata": {},
   "outputs": [
    {
     "name": "stdout",
     "output_type": "stream",
     "text": [
      "batch_index: 0\n",
      "batch_index: 1\n",
      "batch_index: 2\n",
      "batch_index: 3\n",
      "batch_index: 4\n",
      "batch_index: 5\n",
      "batch_index: 6\n",
      "batch_index: 7\n",
      "batch_index: 8\n",
      "batch_index: 9\n",
      "batch_index: 10\n",
      "batch_index: 11\n",
      "batch_index: 12\n",
      "batch_index: 13\n",
      "batch_index: 14\n",
      "batch_index: 15\n",
      "batch_index: 16\n",
      "batch_index: 17\n",
      "batch_index: 18\n",
      "batch_index: 19\n",
      "batch_index: 20\n",
      "batch_index: 21\n",
      "batch_index: 22\n",
      "batch_index: 23\n",
      "batch_index: 24\n",
      "batch_index: 25\n",
      "batch_index: 26\n",
      "batch_index: 27\n",
      "batch_index: 28\n",
      "batch_index: 29\n",
      "batch_index: 30\n",
      "batch_index: 31\n",
      "batch_index: 32\n",
      "batch_index: 33\n",
      "batch_index: 34\n",
      "batch_index: 35\n",
      "batch_index: 36\n",
      "batch_index: 37\n",
      "batch_index: 38\n",
      "batch_index: 39\n",
      "batch_index: 40\n",
      "batch_index: 41\n",
      "batch_index: 42\n",
      "batch_index: 43\n",
      "batch_index: 44\n",
      "batch_index: 45\n",
      "batch_index: 46\n",
      "batch_index: 47\n",
      "batch_index: 48\n",
      "batch_index: 49\n",
      "batch_index: 50\n",
      "batch_index: 51\n",
      "batch_index: 52\n",
      "batch_index: 53\n",
      "batch_index: 54\n",
      "batch_index: 55\n",
      "batch_index: 56\n",
      "batch_index: 57\n",
      "batch_index: 58\n",
      "batch_index: 59\n",
      "batch_index: 60\n",
      "batch_index: 61\n",
      "batch_index: 62\n",
      "batch_index: 63\n",
      "batch_index: 64\n",
      "batch_index: 65\n",
      "batch_index: 66\n",
      "batch_index: 67\n",
      "batch_index: 68\n",
      "batch_index: 69\n",
      "batch_index: 70\n",
      "batch_index: 71\n",
      "batch_index: 72\n",
      "batch_index: 73\n",
      "batch_index: 74\n",
      "batch_index: 75\n",
      "batch_index: 76\n",
      "batch_index: 77\n",
      "batch_index: 78\n",
      "batch_index: 79\n",
      "batch_index: 80\n",
      "batch_index: 81\n",
      "batch_index: 82\n",
      "batch_index: 83\n",
      "batch_index: 84\n",
      "batch_index: 85\n",
      "batch_index: 86\n",
      "batch_index: 87\n",
      "batch_index: 88\n",
      "batch_index: 89\n",
      "batch_index: 90\n",
      "batch_index: 91\n",
      "batch_index: 92\n",
      "batch_index: 93\n",
      "batch_index: 94\n",
      "batch_index: 95\n",
      "batch_index: 96\n",
      "batch_index: 97\n",
      "batch_index: 98\n",
      "batch_index: 99\n",
      "batch_index: 100\n",
      "batch_index: 101\n",
      "batch_index: 102\n",
      "batch_index: 103\n",
      "batch_index: 104\n",
      "batch_index: 105\n",
      "batch_index: 106\n",
      "batch_index: 107\n",
      "batch_index: 108\n",
      "batch_index: 109\n",
      "batch_index: 110\n",
      "batch_index: 111\n",
      "batch_index: 112\n",
      "batch_index: 113\n",
      "batch_index: 114\n",
      "batch_index: 115\n",
      "batch_index: 116\n",
      "batch_index: 117\n",
      "batch_index: 118\n",
      "batch_index: 119\n",
      "batch_index: 120\n",
      "batch_index: 121\n",
      "batch_index: 122\n",
      "batch_index: 123\n",
      "batch_index: 124\n",
      "batch_index: 125\n",
      "batch_index: 126\n",
      "batch_index: 127\n",
      "batch_index: 128\n",
      "batch_index: 129\n",
      "batch_index: 130\n",
      "batch_index: 131\n",
      "batch_index: 132\n",
      "batch_index: 133\n",
      "batch_index: 134\n",
      "batch_index: 135\n",
      "batch_index: 136\n",
      "batch_index: 137\n",
      "batch_index: 138\n",
      "batch_index: 139\n",
      "batch_index: 140\n",
      "batch_index: 141\n",
      "batch_index: 142\n",
      "batch_index: 143\n",
      "batch_index: 144\n",
      "batch_index: 145\n",
      "batch_index: 146\n",
      "batch_index: 147\n",
      "batch_index: 148\n",
      "batch_index: 149\n",
      "batch_index: 150\n",
      "batch_index: 151\n",
      "batch_index: 152\n",
      "batch_index: 153\n",
      "batch_index: 154\n",
      "batch_index: 155\n",
      "batch_index: 156\n",
      "batch_index: 157\n",
      "batch_index: 158\n",
      "batch_index: 159\n",
      "batch_index: 160\n",
      "batch_index: 161\n",
      "batch_index: 162\n",
      "batch_index: 163\n",
      "batch_index: 164\n",
      "batch_index: 165\n",
      "batch_index: 166\n",
      "batch_index: 167\n",
      "batch_index: 168\n",
      "batch_index: 169\n",
      "batch_index: 170\n",
      "batch_index: 171\n",
      "batch_index: 172\n",
      "batch_index: 173\n",
      "batch_index: 174\n",
      "batch_index: 175\n",
      "batch_index: 176\n",
      "batch_index: 177\n",
      "batch_index: 178\n",
      "batch_index: 179\n",
      "batch_index: 180\n",
      "batch_index: 181\n",
      "batch_index: 182\n",
      "batch_index: 183\n",
      "batch_index: 184\n",
      "batch_index: 185\n",
      "batch_index: 186\n",
      "batch_index: 187\n",
      "batch_index: 188\n",
      "batch_index: 189\n",
      "batch_index: 190\n",
      "batch_index: 191\n",
      "batch_index: 192\n",
      "batch_index: 193\n",
      "batch_index: 194\n",
      "batch_index: 195\n",
      "batch_index: 196\n",
      "batch_index: 197\n",
      "batch_index: 198\n",
      "batch_index: 199\n",
      "batch_index: 200\n",
      "batch_index: 201\n",
      "batch_index: 202\n",
      "batch_index: 203\n",
      "batch_index: 204\n",
      "batch_index: 205\n",
      "batch_index: 206\n",
      "batch_index: 207\n",
      "batch_index: 208\n",
      "batch_index: 209\n",
      "batch_index: 210\n",
      "batch_index: 211\n",
      "batch_index: 212\n",
      "batch_index: 213\n",
      "batch_index: 214\n",
      "batch_index: 215\n",
      "batch_index: 216\n",
      "batch_index: 217\n",
      "batch_index: 218\n",
      "batch_index: 219\n",
      "batch_index: 220\n",
      "batch_index: 221\n",
      "batch_index: 222\n",
      "batch_index: 223\n",
      "batch_index: 224\n",
      "batch_index: 225\n",
      "batch_index: 226\n",
      "batch_index: 227\n",
      "batch_index: 228\n",
      "batch_index: 229\n",
      "batch_index: 230\n",
      "batch_index: 231\n",
      "batch_index: 232\n",
      "batch_index: 233\n",
      "batch_index: 234\n",
      "batch_index: 235\n",
      "batch_index: 236\n",
      "batch_index: 237\n",
      "batch_index: 238\n",
      "batch_index: 239\n",
      "batch_index: 240\n",
      "batch_index: 241\n",
      "batch_index: 242\n",
      "batch_index: 243\n",
      "batch_index: 244\n",
      "batch_index: 245\n",
      "batch_index: 246\n",
      "batch_index: 247\n",
      "batch_index: 248\n",
      "batch_index: 249\n",
      "batch_index: 250\n",
      "batch_index: 251\n",
      "batch_index: 252\n",
      "batch_index: 253\n",
      "batch_index: 254\n",
      "batch_index: 255\n",
      "batch_index: 256\n",
      "batch_index: 257\n",
      "batch_index: 258\n",
      "batch_index: 259\n",
      "batch_index: 260\n",
      "batch_index: 261\n",
      "batch_index: 262\n",
      "batch_index: 263\n",
      "batch_index: 264\n",
      "batch_index: 265\n",
      "batch_index: 266\n",
      "batch_index: 267\n",
      "batch_index: 268\n",
      "batch_index: 269\n",
      "batch_index: 270\n",
      "batch_index: 271\n",
      "batch_index: 272\n",
      "batch_index: 273\n",
      "batch_index: 274\n",
      "batch_index: 275\n",
      "batch_index: 276\n",
      "batch_index: 277\n",
      "batch_index: 278\n",
      "batch_index: 279\n",
      "batch_index: 280\n",
      "batch_index: 281\n",
      "batch_index: 282\n",
      "batch_index: 283\n",
      "batch_index: 284\n",
      "batch_index: 285\n",
      "batch_index: 286\n",
      "batch_index: 287\n",
      "batch_index: 288\n",
      "batch_index: 289\n",
      "batch_index: 290\n",
      "batch_index: 291\n",
      "batch_index: 292\n",
      "batch_index: 293\n",
      "batch_index: 294\n",
      "batch_index: 295\n",
      "batch_index: 296\n",
      "batch_index: 297\n",
      "batch_index: 298\n",
      "batch_index: 299\n",
      "batch_index: 300\n",
      "batch_index: 301\n",
      "batch_index: 302\n",
      "batch_index: 303\n",
      "batch_index: 304\n",
      "batch_index: 305\n",
      "batch_index: 306\n",
      "batch_index: 307\n",
      "batch_index: 308\n",
      "batch_index: 309\n",
      "batch_index: 310\n",
      "batch_index: 311\n",
      "batch_index: 312\n",
      "batch_index: 313\n",
      "batch_index: 314\n",
      "batch_index: 315\n",
      "batch_index: 316\n",
      "batch_index: 317\n",
      "batch_index: 318\n",
      "batch_index: 319\n",
      "batch_index: 320\n",
      "batch_index: 321\n",
      "batch_index: 322\n",
      "batch_index: 323\n",
      "batch_index: 324\n",
      "batch_index: 325\n",
      "batch_index: 326\n",
      "batch_index: 327\n",
      "batch_index: 328\n",
      "batch_index: 329\n",
      "batch_index: 330\n",
      "batch_index: 331\n",
      "batch_index: 332\n",
      "batch_index: 333\n",
      "batch_index: 334\n",
      "batch_index: 335\n",
      "batch_index: 336\n",
      "batch_index: 337\n",
      "batch_index: 338\n",
      "batch_index: 339\n",
      "batch_index: 340\n",
      "batch_index: 341\n",
      "batch_index: 342\n",
      "batch_index: 343\n",
      "batch_index: 344\n",
      "batch_index: 345\n",
      "batch_index: 346\n",
      "batch_index: 347\n",
      "batch_index: 348\n",
      "batch_index: 349\n",
      "batch_index: 350\n",
      "batch_index: 351\n",
      "batch_index: 352\n",
      "batch_index: 353\n",
      "batch_index: 354\n",
      "batch_index: 355\n",
      "batch_index: 356\n",
      "batch_index: 357\n",
      "batch_index: 358\n",
      "batch_index: 359\n",
      "batch_index: 360\n",
      "batch_index: 361\n",
      "batch_index: 362\n",
      "batch_index: 363\n",
      "batch_index: 364\n",
      "batch_index: 365\n",
      "batch_index: 366\n",
      "batch_index: 367\n",
      "batch_index: 368\n",
      "batch_index: 369\n",
      "batch_index: 370\n",
      "batch_index: 371\n",
      "batch_index: 372\n",
      "batch_index: 373\n",
      "batch_index: 374\n",
      "batch_index: 375\n",
      "batch_index: 376\n",
      "batch_index: 377\n",
      "batch_index: 378\n",
      "batch_index: 379\n",
      "batch_index: 380\n",
      "batch_index: 381\n",
      "batch_index: 382\n",
      "batch_index: 383\n",
      "batch_index: 384\n",
      "batch_index: 385\n",
      "batch_index: 386\n",
      "batch_index: 387\n",
      "batch_index: 388\n",
      "batch_index: 389\n",
      "batch_index: 390\n",
      "batch_index: 391\n",
      "batch_index: 392\n",
      "batch_index: 393\n",
      "batch_index: 394\n",
      "batch_index: 395\n",
      "batch_index: 396\n",
      "batch_index: 397\n",
      "batch_index: 398\n",
      "batch_index: 399\n",
      "batch_index: 400\n",
      "batch_index: 401\n",
      "batch_index: 402\n",
      "batch_index: 403\n",
      "batch_index: 404\n",
      "batch_index: 405\n",
      "batch_index: 406\n",
      "batch_index: 407\n",
      "batch_index: 408\n",
      "batch_index: 409\n",
      "batch_index: 410\n",
      "batch_index: 411\n",
      "batch_index: 412\n",
      "batch_index: 413\n",
      "batch_index: 414\n",
      "batch_index: 415\n",
      "batch_index: 416\n",
      "batch_index: 417\n",
      "batch_index: 418\n",
      "batch_index: 419\n",
      "batch_index: 420\n",
      "batch_index: 421\n",
      "batch_index: 422\n",
      "batch_index: 423\n",
      "batch_index: 424\n",
      "batch_index: 425\n",
      "batch_index: 426\n",
      "batch_index: 427\n",
      "batch_index: 428\n",
      "batch_index: 429\n",
      "batch_index: 430\n",
      "batch_index: 431\n",
      "batch_index: 432\n",
      "batch_index: 433\n",
      "batch_index: 434\n",
      "batch_index: 435\n",
      "batch_index: 436\n",
      "batch_index: 437\n",
      "batch_index: 438\n",
      "batch_index: 439\n",
      "batch_index: 440\n",
      "batch_index: 441\n",
      "batch_index: 442\n",
      "batch_index: 443\n",
      "batch_index: 444\n",
      "batch_index: 445\n",
      "batch_index: 446\n",
      "batch_index: 447\n",
      "batch_index: 448\n",
      "batch_index: 449\n",
      "batch_index: 450\n",
      "batch_index: 451\n",
      "batch_index: 452\n",
      "batch_index: 453\n",
      "batch_index: 454\n",
      "batch_index: 455\n",
      "batch_index: 456\n",
      "batch_index: 457\n",
      "batch_index: 458\n",
      "batch_index: 459\n",
      "batch_index: 460\n",
      "batch_index: 461\n",
      "batch_index: 462\n",
      "batch_index: 463\n",
      "batch_index: 464\n",
      "batch_index: 465\n",
      "batch_index: 466\n",
      "batch_index: 467\n",
      "batch_index: 468\n",
      "batch_index: 469\n",
      "batch_index: 470\n",
      "batch_index: 471\n",
      "batch_index: 472\n",
      "batch_index: 473\n",
      "batch_index: 474\n",
      "batch_index: 475\n",
      "batch_index: 476\n",
      "batch_index: 477\n",
      "batch_index: 478\n",
      "batch_index: 479\n",
      "batch_index: 480\n",
      "batch_index: 481\n",
      "batch_index: 482\n",
      "batch_index: 483\n",
      "batch_index: 484\n",
      "batch_index: 485\n",
      "batch_index: 486\n",
      "batch_index: 487\n",
      "batch_index: 488\n"
     ]
    },
    {
     "name": "stdout",
     "output_type": "stream",
     "text": [
      "batch_index: 489\n",
      "batch_index: 490\n",
      "batch_index: 491\n",
      "batch_index: 492\n",
      "batch_index: 493\n",
      "batch_index: 494\n",
      "batch_index: 495\n",
      "batch_index: 496\n",
      "batch_index: 497\n",
      "batch_index: 498\n",
      "batch_index: 499\n"
     ]
    },
    {
     "ename": "TypeError",
     "evalue": "evaluate_model() takes 1 positional argument but 2 were given",
     "output_type": "error",
     "traceback": [
      "\u001b[0;31m---------------------------------------------------------------------------\u001b[0m",
      "\u001b[0;31mTypeError\u001b[0m                                 Traceback (most recent call last)",
      "\u001b[0;32m<ipython-input-137-4b890943c2dd>\u001b[0m in \u001b[0;36m<module>\u001b[0;34m\u001b[0m\n\u001b[1;32m     17\u001b[0m         \u001b[0;32mif\u001b[0m \u001b[0mi\u001b[0m \u001b[0;34m%\u001b[0m \u001b[0;36m500\u001b[0m \u001b[0;34m==\u001b[0m \u001b[0;36m499\u001b[0m\u001b[0;34m:\u001b[0m    \u001b[0;31m# print every 2000 mini-batches\u001b[0m\u001b[0;34m\u001b[0m\u001b[0;34m\u001b[0m\u001b[0m\n\u001b[1;32m     18\u001b[0m             \u001b[0mval_h\u001b[0m \u001b[0;34m=\u001b[0m \u001b[0mmodel\u001b[0m\u001b[0;34m.\u001b[0m\u001b[0minit_hidden\u001b[0m\u001b[0;34m(\u001b[0m\u001b[0mbatch_size\u001b[0m\u001b[0;34m)\u001b[0m\u001b[0;34m\u001b[0m\u001b[0;34m\u001b[0m\u001b[0m\n\u001b[0;32m---> 19\u001b[0;31m             \u001b[0mevaluate_model\u001b[0m\u001b[0;34m(\u001b[0m\u001b[0mvalid_loader\u001b[0m\u001b[0;34m,\u001b[0m\u001b[0mmodel\u001b[0m\u001b[0;34m)\u001b[0m\u001b[0;34m\u001b[0m\u001b[0;34m\u001b[0m\u001b[0m\n\u001b[0m\u001b[1;32m     20\u001b[0m             \u001b[0mprint\u001b[0m\u001b[0;34m(\u001b[0m\u001b[0;34m'[%d, %5d] loss: %.3f'\u001b[0m \u001b[0;34m%\u001b[0m\u001b[0;34m(\u001b[0m\u001b[0mepoch\u001b[0m \u001b[0;34m+\u001b[0m \u001b[0;36m1\u001b[0m\u001b[0;34m,\u001b[0m \u001b[0mi\u001b[0m \u001b[0;34m+\u001b[0m \u001b[0;36m1\u001b[0m\u001b[0;34m,\u001b[0m \u001b[0mrunning_loss\u001b[0m \u001b[0;34m/\u001b[0m \u001b[0;36m2000\u001b[0m\u001b[0;34m)\u001b[0m\u001b[0;34m)\u001b[0m\u001b[0;34m\u001b[0m\u001b[0;34m\u001b[0m\u001b[0m\n\u001b[1;32m     21\u001b[0m             \u001b[0mrunning_loss\u001b[0m \u001b[0;34m=\u001b[0m \u001b[0;36m0.0\u001b[0m\u001b[0;34m\u001b[0m\u001b[0;34m\u001b[0m\u001b[0m\n",
      "\u001b[0;31mTypeError\u001b[0m: evaluate_model() takes 1 positional argument but 2 were given"
     ]
    }
   ],
   "source": [
    "for epoch in range(epochs):\n",
    "    running_loss = 0.0\n",
    "    batch_count = 0\n",
    "    for i, train_data in enumerate(train_loader):\n",
    "        print('batch_index:', i)\n",
    "        train_input, train_laebl = train_data\n",
    "        if(train_on_gpu):\n",
    "            train_input, train_laebl = train_input.cuda(), train_laebl.cuda()\n",
    "        # forward\n",
    "        hidden = model.init_hidden(batch_size) # 有问题\n",
    "        model.zero_grad()\n",
    "        outputs = model(train_input, hidden)\n",
    "        loss = criterion(outputs, train_laebl)\n",
    "        # backward\n",
    "        loss.backward()\n",
    "        # optimize\n",
    "        optimizer.step()\n",
    "        running_loss += loss.item()\n",
    "        if i % 500 == 499:    # print every 2000 mini-batches\n",
    "            val_h = model.init_hidden(batch_size)\n",
    "            evaluate_model(valid_loader,model)\n",
    "            print('[%d, %5d] loss: %.3f' %(epoch + 1, i + 1, running_loss / 2000))\n",
    "            running_loss = 0.0\n",
    "            torch.save(net.state_dict(), PATH)\n",
    "            with open(SAVE_PATH, 'wb') as f:\n",
    "                torch.save(model, f)\n",
    "print('finished training')"
   ]
  },
  {
   "cell_type": "code",
   "execution_count": 138,
   "metadata": {},
   "outputs": [],
   "source": [
    "def evaluate_model(data_loader, model):\n",
    "    correct = 0\n",
    "    total = 0\n",
    "    with torch.no_grad():\n",
    "        for data in data_loader:\n",
    "            train_input, labels = data\n",
    "            if(train_on_gpu):\n",
    "                rain_input, labels = rain_input.cuda(), labels.cuda()\n",
    "            outputs = model(train_input)\n",
    "            _, predicted = torch.max(outputs.data, 1)\n",
    "            total += labels.size(0)\n",
    "            correct += (predicted == labels).sum().item()\n",
    "\n",
    "    print('Accuracy of the network: %d %%' % (\n",
    "    100 * correct / total))"
   ]
  },
  {
   "cell_type": "code",
   "execution_count": null,
   "metadata": {},
   "outputs": [],
   "source": [
    "def predict_model(data_loader):\n",
    "    correct = 0\n",
    "    total = 0\n",
    "    pred = []\n",
    "    with torch.no_grad():\n",
    "        for data in data_loader:\n",
    "            train_input = data\n",
    "            outputs = net(train_input)\n",
    "            _, predicted = torch.max(outputs.data, 1)\n",
    "            total += labels.size(0)\n",
    "            correct += (predicted == labels).sum().item()\n",
    "\n",
    "    print('Accuracy of the network: %d %%' % (\n",
    "    100 * correct / total))"
   ]
  }
 ],
 "metadata": {
  "kernelspec": {
   "display_name": "Python 3",
   "language": "python",
   "name": "python3"
  },
  "language_info": {
   "codemirror_mode": {
    "name": "ipython",
    "version": 3
   },
   "file_extension": ".py",
   "mimetype": "text/x-python",
   "name": "python",
   "nbconvert_exporter": "python",
   "pygments_lexer": "ipython3",
   "version": "3.7.4"
  }
 },
 "nbformat": 4,
 "nbformat_minor": 2
}
